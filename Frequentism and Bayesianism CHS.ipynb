{
 "metadata": {
  "name": "",
  "signature": "sha256:d9f8045fb106cbd97bfeea4320360007a719559a1f088f5fcd14c12fb81142ae"
 },
 "nbformat": 3,
 "nbformat_minor": 0,
 "worksheets": [
  {
   "cells": [
    {
     "cell_type": "markdown",
     "metadata": {},
     "source": [
      "# \u9891\u7387\u4e3b\u4e49\u548c\u8d1d\u53f6\u65af\u4e3b\u4e49\u2014\u2014\u4e00\u4e2a\u5b9e\u7528\u7684\u4ecb\u7ecd\n",
      "\n",
      "*\u6b64notebook\u6700\u521d\u51fa\u73b0\u5728\u535a\u5ba2[Pythonic Perambulations](http://jakevdp.github.io)\u7684[\u6587\u7ae0](http://jakevdp.github.io/blog/2014/03/11/frequentism-and-bayesianism-a-practical-intro/)\u3002BSD licensed\u3002*\n",
      "\n",
      "<!-- PELICAN_BEGIN_SUMMARY -->\n",
      "\u79d1\u5b66\u5de5\u4f5c\u8005\u5b66\u4e60\u7edf\u8ba1\u5b66\u7684\u7b2c\u4e00\u4ef6\u4e8b\u513f\u662f\u8981\u77e5\u9053\u6709\u4e24\u79cd\u4e0d\u540c\u7684\u65b9\u6cd5\u8bba\uff1a\u9891\u7387\u4e3b\u4e49\u548c\u8d1d\u53f6\u65af\u4e3b\u4e49\u3002\u5c3d\u7ba1\u8fd9\u70b9\u5f88\u91cd\u8981\uff0c\u4f46\u5f88\u591a\u79d1\u5b66\u5de5\u4f5c\u8005\u4ece\u6765\u6ca1\u6709\u673a\u4f1a\u8ba4\u8bc6\u4e24\u8005\u7684\u5dee\u5f02\uff0c\u53ca\u5176\u4ea7\u751f\u7ed3\u679c\u7684\u4e0d\u540c\u3002\u672c\u6587\u7684\u76ee\u7684\u662f\u7efc\u5408\u9891\u7387\u4e3b\u4e49\u548c\u8d1d\u53f6\u65af\u4e3b\u4e49\u7684\u7406\u8bba\u4e0e\u5b9e\u8df5\u5185\u5bb9\uff0c\u8ba9\u79d1\u5b66\u5de5\u4f5c\u8005\u5728\u6570\u636e\u5206\u6790\u4e4b\u524d\u505a\u51fa\u66f4\u597d\u7684\u9009\u62e9\u3002\n",
      "\n",
      "\u5f00\u59cb\u6211\u5c06\u901a\u8fc7\u7406\u8bba\u6765\u8bba\u8ff0\u4e24\u8005\u533a\u522b\uff0c\u4e4b\u540e\u7528Python\u4ee3\u7801\u6f14\u793a\u4e24\u8005\u5728\u5e94\u7528\u4e2d\u7684\u5dee\u5f02\u3002\n",
      "<!-- PELICAN_END_SUMMARY -->\n",
      "\n",
      "## \u9891\u7387\u4e3b\u4e49 VS \u8d1d\u53f6\u65af\u4e3b\u4e49\uff1a \u7406\u8bba\u4e4b\u4e89\n",
      "\n",
      "\u9891\u7387\u4e3b\u4e49\u4e0e\u8d1d\u53f6\u65af\u4e3b\u4e49\u7684\u672c\u8d28\u4e4b\u4e89\u662f\u5bf9\u6982\u7387\u5b9a\u4e49\u7684\u5dee\u5f02\u3002\n",
      "\n",
      "\u9891\u7387\u4e3b\u4e49\u8ba4\u4e3a\u6982\u7387\u662f\u8868\u793a**\u6709\u9650\u6b21\u7684\u91cd\u590d\u6d4b\u91cf** \u3002\u5047\u8bbe\u6211\u591a\u6b21\u6d4b\u91cf\u67d0\u4e2a\u661f\u661f\u7684\u4eae\u5ea6([\u5149\u91cf\u5b50\u901a\u91cf](http://www.pveducation.org/pvcdrom/properties-of-sunlight/photon-flux))\\(F\\) \u65f6(\u5047\u8bbe\u661f\u661f\u901a\u91cf\u4e0d\u4f1a\u53d8\u5316)\uff0c\u7531\u4e8e\u6d4b\u91cf\u8bef\u5dee\u6bcf\u6b21\u5f97\u5230\u4e0d\u540c\u7684\u6d4b\u91cf\u503c\u3002\u5728\u591a\u6b21\u6d4b\u91cf\u7684\u524d\u63d0\u4e0b\uff0c\u67d0\u4e2a\u53d8\u91cf\u7684**\u9891\u7387** \u6307\u7684\u662f\u6d4b\u91cf\u53d8\u91cf\u7684\u6982\u7387\u3002\u9891\u7387\u4e3b\u4e49\u8ba4\u4e3a**\u6982\u7387\u672c\u8d28\u4e0a\u662f\u4e0e\u9891\u7387\u76f8\u5173\u7684\u4e8b\u4ef6** \u3002\u56e0\u6b64\uff0c\u4e00\u4e2a\u7eaf\u7cb9\u7684\u9891\u7387\u4e3b\u4e49\u8005\u4f1a\u8ba4\u4e3a\uff0c\u8ba8\u8bba\u661f\u661f**\u771f\u5b9e**\u4eae\u5ea6\u7684\u6982\u7387\u662f\u6ca1\u5565\u610f\u4e49\u7684\uff0c\u56e0\u4e3a\u771f\u5b9e\u4eae\u5ea6\u5176\u5b9e\u662f\u56fa\u5b9a\u503c\uff0c\u4e5f\u5c31\u662f\u8bf4\u8ba8\u8bba\u4e00\u4e2a\u56fa\u5b9a\u503c\u7684\u9891\u7387\u5206\u5e03\u662f\u778e\u626f\u6de1\u3002\n",
      "\n",
      "\u8d1d\u53f6\u65af\u7406\u8bba\u8ba4\u4e3a\uff0c\u6982\u7387\u7684\u6982\u5ff5\u5e94\u8be5\u88ab\u6269\u5c55\u4e3a**\u5bf9\u4e00\u4e2a\u547d\u9898\u4fe1\u4efb\u7684\u7a0b\u5ea6** \u3002\u8d1d\u53f6\u65af\u7406\u8bba\u4f1a\u8bf4\u6d4b\u91cf\u6982\u7387\u4e3a$P(F)$\u7684\u661f\u661f\u4eae\u5ea6$F$\uff1a\u867d\u7136\u6982\u7387\u786e\u5b9e\u80fd\u591f\u901a\u8fc7\u5927\u91cf\u91cd\u590d\u5b9e\u9a8c\u83b7\u53d6\u7684\u9891\u7387\u6d4b\u5f97\uff0c\u4f46\u662f\u8fd9\u5e76\u975e\u9891\u7387\u7684\u672c\u8d28\u3002\u6982\u7387\u662f\u4e00\u4e2a\u7531\u4e2a\u4eba\u7ecf\u9a8c\u51b3\u5b9a\u6d4b\u91cf\u7ed3\u679c\u7684\u4e3b\u89c2\u547d\u9898\u3002\u8d1d\u53f6\u65af\u7406\u8bba\u8ba4\u4e3a**\u6982\u7387\u672c\u8d28\u4e0a\u4e0e\u6211\u4eec\u5bf9\u4e8b\u4ef6\u7684\u638c\u63e1\u7a0b\u5ea6\u6709\u5173** \u3002\u8d1d\u53f6\u65af\u7406\u8bba\u8ba4\u4e3a\u4eba\u4eec\u53ef\u4ee5\u5728\u4e00\u4e2a\u56fa\u5b9a\u7684\u8303\u56f4\u5185\u8ba8\u8bba\u661f\u661f**\u771f\u5b9e**\u4eae\u5ea6\u7684\u6982\u7387\u3002\u6982\u7387\u4e5f\u4f1a\u8c03\u6574\u6211\u4eec\u5bf9\u5148\u9a8c\u4fe1\u606f\u548c\uff0f\u6216\u5df2\u6709\u6570\u636e\u7684\u8ba4\u8bc6\u3002([\u6982\u7387\u4f1a\u6539\u53d8\u5e38\u8bc6](http://mindhacks.cn/2008/09/21/the-magical-bayesian-method/))\n",
      "\n",
      "\u5947\u602a\u7684\u662f\u7406\u8bba\u4e89\u8bae\u4e0d\u5927\uff0c\u4f46\u662f\u5728\u5b9e\u9645\u7684\u6570\u636e\u5206\u6790\u4e2d\u4f1a\u4ea7\u751f\u6781\u5927\u5dee\u5f02\u3002\u4e0b\u9762\u6211\u4f1a\u7ed9\u51fa\u4e00\u4e2a\u5b9e\u9645\u6848\u4f8b\u7684\u4e24\u79cd\u7406\u8bba\u5b9e\u73b0\uff0c\u7528Python\u6f14\u793a\u3002\n",
      "\n",
      "## \u9891\u7387\u7406\u8bba\u4e0e\u8d1d\u53f6\u65af\u7406\u8bba\u7684\u5b9e\u9645\u5e94\u7528: \u5149\u91cf\u5b50\u8ba1\u91cf\n",
      "\n",
      "\u8ba9\u6211\u4eec\u770b\u4e00\u4e2a\u7b80\u5355\u95ee\u9898\uff0c\u7136\u540e\u6bd4\u8f83\u4e00\u4e0b\u4e24\u79cd\u65b9\u6cd5\u7684\u5dee\u5f02\u3002\u8fd9\u513f\u5f97\u6709\u70b9\u513f\u6570\u5b66\u516c\u5f0f\uff0c\u4e0d\u8fc7\u6211\u4e0d\u4f1a\u5165\u5f97\u7279\u522b\u6df1\u54c8\u3002\u5982\u679c\u4f60\u60f3\u6df1\u5165\uff0c\u4f60\u53ef\u4ee5\u8003\u8651\u4e00\u4e0b\u7ec3\u7ec3[\u6559\u6750](http://www.amazon.com/dp/0691151687/)4-5\u7ae0\u7684\u5185\u5bb9\u3002 \n",
      "\n",
      "### \u7814\u7a76\u5bf9\u8c61: \u7b80\u6613\u5149\u91cf\u5b50\u8ba1\u91cf\u65b9\u6cd5\n",
      "\n",
      "\u60f3\u8c61\u4e00\u4e0b\u6211\u4eec\u62ff\u7740\u671b\u8fdc\u955c\uff0c\u89c2\u5bdf\u9065\u8fdc\u7684\u661f\u661f\u4f20\u6765\u7684\u65e0\u5c3d\u661f\u5149\u3002\u9996\u5148\uff0c\u8ba9\u6211\u4eec\u5047\u8bbe\u661f\u661f\u7684\u771f\u5b9e\u4eae\u5ea6\u662f\u56fa\u5b9a\u503c\uff0c\u4e0d\u4f1a\u968f\u65f6\u95f4\u53d8\u5316\u3002\u7528\u5e38\u91cf$F_{\\rm true}$ \u8868\u793a(\u6211\u4eec\u8fd8\u5c06\u5ffd\u7565\u5927\u6c14\u5c42\u7684\u5f71\u54cd\uff0c\u4ee5\u53ca\u5176\u4ed6\u7cfb\u7edf\u6027\u8bef\u5dee)\u3002\u6211\u4eec\u5047\u8bbe\u7528\u671b\u8fdc\u955c\u8fdb\u884c\u4e86$N$\u6b21\u6d4b\u91cf\uff0c\u7b2c$i^{\\rm th}$ \u6b21\u6d4b\u91cf\u62a5\u9053\u4e86\u89c2\u5bdf\u5230\u7684\u4eae\u5ea6$F_i$ \u548c\u8bef\u5dee$e_i$\u3002\n",
      "\n",
      "\u95ee\u9898\u662f\u6709\u4e86\u8fd9\u4e9b\u6d4b\u91cf\u503c$D = \\{F_i,e_i\\}$\uff0c\u771f\u5b9e\u4eae\u5ea6$F_{\\rm true}$\u7684\u6700\u4f73\u4f30\u8ba1\u503c\u662f\u591a\u5c11\uff1f\n",
      "\n",
      "<small>(\u5173\u4e8e\u6d4b\u91cf\u8bef\u5dee\uff1a\u5982\u679c\u5047\u8bbe\u6d4b\u91cf\u8bef\u5dee\u662f\u6309\u6b63\u6001\u5206\u5e03\u3002\u9891\u7387\u4e3b\u4e49\u8005\u7684\u89c2\u70b9\u662f$e_i$\u662f\u5728\u5927\u91cf\u91cd\u590d**\u5b9e\u9a8c**\u6761\u4ef6\u4e0b\u5355\u6b21\u6d4b\u91cf\u7684\u6807\u51c6\u5dee\u3002\u800c\u8d1d\u53f6\u65af\u7406\u8bba\u8ba4\u4e3a$e_i$\u662f\u6309\u7167\u6211\u4eec\u4ee5\u5f80\u7684\u6d4b\u91cf\u7ecf\u9a8c\u63cf\u8ff0\u7684(\u6b63\u6001)\u6982\u7387\u5206\u5e03\u7684\u6807\u51c6\u5dee\u3002)</small>\n",
      "\n",
      "\u6211\u4eec\u7528Python\u968f\u673a\u751f\u6210\u4e00\u4e9b\u6570\u636e\u6765\u6f14\u793a\u4e24\u79cd\u7406\u8bba\u7684\u5dee\u5f02\u3002\u7531\u4e8e\u6d4b\u91cf\u662f\u6309\u6b21\u8ba1\u6570\u7684\u79bb\u6563\u4e8b\u4ef6\uff0c\u6211\u4eec\u53ef\u4ee5\u4f7f\u7528\u6cca\u677e\u5206\u5e03\u505a\u6f14\u793a\uff1a"
     ]
    },
    {
     "cell_type": "code",
     "collapsed": false,
     "input": [
      "# Generating some simple photon count data\n",
      "import numpy as np\n",
      "from scipy import stats\n",
      "np.random.seed(1)  # for repeatability\n",
      "\n",
      "F_true = 1000  # true flux, say number of photons measured in 1 second\n",
      "N = 50 # number of measurements\n",
      "F = stats.poisson(F_true).rvs(N)  # N measurements of the flux\n",
      "e = np.sqrt(F)  # errors on Poisson counts estimated via square root"
     ],
     "language": "python",
     "metadata": {},
     "outputs": [],
     "prompt_number": 1
    },
    {
     "cell_type": "markdown",
     "metadata": {},
     "source": [
      "\u73b0\u5728\u8ba9\u6211\u4eec\u4e3a\u201d\u6d4b\u91cf\u201c\u503c\u505a\u4e2a\u7b80\u5355\u7684\u56fe\u5f62\uff1a"
     ]
    },
    {
     "cell_type": "code",
     "collapsed": false,
     "input": [
      "get_ipython().magic(u'matplotlib inline')\n",
      "import matplotlib.pyplot as plt\n",
      "\n",
      "fig, ax = plt.subplots()\n",
      "ax.errorbar(F, np.arange(N), xerr=e, fmt='ok', ecolor='gray', alpha=0.5)\n",
      "ax.vlines([F_true], 0, N, linewidth=5, alpha=0.2)\n",
      "ax.set_xlabel(\"Flux\");ax.set_ylabel(\"measurement number\");"
     ],
     "language": "python",
     "metadata": {},
     "outputs": [
      {
       "metadata": {},
       "output_type": "display_data",
       "png": "[encoded data removed]",
       "text": [
        "<matplotlib.figure.Figure at 0x7f3398defc10>"
       ]
      }
     ],
     "prompt_number": 2
    },
    {
     "cell_type": "markdown",
     "metadata": {},
     "source": [
      "\u7528\u6807\u51c6\u5e73\u65b9\u6839\u6cd5\u5219\u5bf9[\u6cca\u677e\u5206\u5e03](http://en.wikipedia.org/wiki/Poisson_distribution)\u8fdb\u884c\u5206\u6790\uff0c\u53ef\u4ee5\u770b\u5230\u6bcf\u6b21\u6d4b\u91cf\u503c\u7684\u8bef\u5dee\u90fd\u4e0d\u540c\u3002\u4e0a\u9762\u7684\u4f8b\u5b50\u4e2d\u6211\u4eec\u662f\u5148\u77e5\u9053\u771f\u5b9e\u503c$F_{\\rm true}$\u7684\uff0c\u4f46\u662f\u5b9e\u9645\u95ee\u9898\u662f\uff1a**\u53ea\u7ed9\u6d4b\u91cf\u503c\u548c\u8bef\u5dee\uff0c\u600e\u4e48\u627e\u5230\u771f\u5b9e\u503c\u7684\u6700\u4f73\u4f30\u8ba1\u503c\uff1f** \n",
      "\n",
      "\u4e0b\u9762\u8ba9\u6211\u4eec\u6765\u770b\u770b\u4e24\u79cd\u7406\u8bba\u7684\u4e0d\u540c\u89e3\u51b3\u65b9\u6848\u3002"
     ]
    },
    {
     "cell_type": "markdown",
     "metadata": {},
     "source": [
      "### \u7b80\u6613\u5149\u91cf\u5b50\u8ba1\u91cf\u7684\u9891\u7387\u4e3b\u4e49\u65b9\u6cd5\n",
      "\n",
      "\u6211\u4eec\u7528\u9891\u7387\u4e3b\u4e49\u4e2d\u7ecf\u5178\u7684**\u4f3c\u7136\u4f30\u8ba1**\u65b9\u6cd5\u5f00\u59cb\u3002\u5bf9\u5e94\u67d0\u4e00\u6b21\u6d4b\u91cf\u503c$D_i = (F_i, e_i)$\uff0c\u4ee5\u524d\u9762\u5047\u8bbe\u7684\u6b63\u6001\u5206\u5e03\u8bef\u5dee$e_i$\u4e3a\u6807\u51c6\u5dee\uff0c\u8be5\u4e8b\u4ef6\u5728\u771f\u5b9e\u503c$F_{\\rm true}$\u5df2\u77e5\u7684\u6761\u4ef6\u4e0b\u53d1\u751f\u7684\u6982\u7387\u5206\u5e03\u6ee1\u8db3\uff1a\n",
      "\n",
      "$$ P(D_i~|~F_{\\rm true}) = \\frac{1}{\\sqrt{2\\pi e_i^2}} \\exp{\\left[\\frac{-(F_i - F_{\\rm true})^2}{2 e_i^2}\\right]} $$\n",
      "\n",
      "\u516c\u5f0f\u5e94\u8be5\u8bfb\u4f5c\u201c\u5728$F_{\\rm true}$\u6761\u4ef6\u4e0b\u4e8b\u4ef6$D_i$\u53d1\u751f\u7684\u6982\u7387...\u201d\uff0c\u662f\u4e2a\u5747\u503c$F_{\\rm true}$\u3001\u6807\u51c6\u5dee\u4e3a$e_i$\u7684\u6b63\u6001\u5206\u5e03\u3002"
     ]
    },
    {
     "cell_type": "markdown",
     "metadata": {},
     "source": [
      "\u6211\u4eec\u901a\u8fc7\u8ba1\u7b97\u6bcf\u4e2a\u89c2\u6d4b\u503c\u6982\u7387\u7684\u4e58\u79ef\u6765\u6784\u5efa**\u4f3c\u7136\u51fd\u6570**\u3002\n",
      "\n",
      "$$\\mathcal{L}(D~|~F_{\\rm true}) = \\prod_{i=1}^N P(D_i~|~F_{\\rm true})$$\n"
     ]
    },
    {
     "cell_type": "markdown",
     "metadata": {},
     "source": [
      "\u5176\u4e2d\uff0c$D = \\{D_i\\}$\u8868\u793a\u6574\u4e2a\u6d4b\u91cf\u4e8b\u4ef6\u3002\u56e0\u4e3a\u4f3c\u7136\u4f30\u8ba1\u503c\u53ef\u80fd\u975e\u5e38\u5c0f\uff0c\u901a\u5e38\u66f4\u65b9\u4fbf\u7684\u505a\u6cd5\u662f\u53d6\u5bf9\u6570\u3002 \n",
      "\n",
      "$$\\log\\mathcal{L} = -\\frac{1}{2} \\sum_{i=1}^N \\left[ \\log(2\\pi  e_i^2) + \\frac{(F_i - F_{\\rm true})^2}{e_i^2} \\right]$$"
     ]
    },
    {
     "cell_type": "markdown",
     "metadata": {},
     "source": [
      "\u6211\u4eec\u8fd9\u4e48\u505a\u662f\u4e3a\u4e86\u786e\u5b9a$F_{\\rm true}$\u7684\u6781\u5927\u4f3c\u7136\u4f30\u8ba1\u503c\u3002\u7531\u4e8e\u95ee\u9898\u5f88\u7b80\u5355\uff0c\u6240\u4ee5\u6700\u5927\u503c\u4e5f\u5bb9\u6613\u7b97(\u6bd4\u5982\u901a\u8fc7\u5fae\u5206\u6c42\u6781\u503c$d\\log\\mathcal{L}/dF_{\\rm true} = 0$)\u3002\u4e0b\u9762\u662f$F_{\\rm true}$\u7684\u6781\u5927\u4f3c\u7136\u4f30\u8ba1\u503c\uff1a\n",
      "\n",
      "$$ F_{\\rm est} = \\frac{\\sum w_i F_i}{\\sum w_i};~~w_i = 1/e_i^2 $$"
     ]
    },
    {
     "cell_type": "markdown",
     "metadata": {},
     "source": [
      "\u7279\u6b8a\u60c5\u51b5\uff1a\u5f53\u6240\u6709\u7684\u6d4b\u91cf\u8bef\u5dee$e_i$\u76f8\u7b49\u65f6\uff0c\u53ef\u4ee5\u63a8\u51fa\n",
      "\n",
      "$$ F_{\\rm est} = \\frac{1}{N}\\sum_{i=1}^N F_i $$\n",
      "\n",
      "\u4e5f\u5c31\u662f\u8bf4\uff0c\u5f53\u8bef\u5dee\u76f8\u7b49\u65f6\uff0c$F_{\\rm est}$\u7b49\u4e8e\u89c2\u6d4b\u503c\u7684\u671f\u671b\uff0c\u8fd9\u4e0e\u76f4\u89c9\u4e00\u81f4\u3002"
     ]
    },
    {
     "cell_type": "markdown",
     "metadata": {},
     "source": [
      "\u6211\u4eec\u53ef\u4ee5\u8fdb\u4e00\u6b65\u7814\u7a76\u4e0b\u8fd9\u4e48\u4f30\u8ba1\u7684\u8bef\u5dee\u3002\u6309\u7167\u9891\u7387\u4e3b\u4e49\u65b9\u6cd5\uff0c\u53ef\u4ee5\u901a\u8fc7\u674e\u96c5\u666e\u8bfa\u592b\u5b9a\u7406\u5c06\u6700\u5927\u4f3c\u7136\u51fd\u6570\u7684\u66f2\u7ebf\u8fdb\u884c\u6b63\u6001\u8fd1\u4f3c\uff1b\u5728\u8fd9\u4e2a\u7b80\u5355\u7684\u4f8b\u5b50\u4e2d\u4e5f\u53ef\u4ee5\u5bb9\u6613\u89e3\u51b3\u3002\u6b63\u6001\u8fd1\u4f3c\u7684\u6807\u51c6\u5dee\u662f\uff1a\n",
      "\n",
      "$$ \\sigma_{\\rm est} = \\left(\\sum_{i=1}^N w_i \\right)^{-1/2} $$"
     ]
    },
    {
     "cell_type": "markdown",
     "metadata": {},
     "source": [
      "\u8fd9\u4e2a\u7ed3\u679c\u5f88\u5bb9\u6613\u8ba1\u7b97\uff1b\u8ba9\u6211\u4eec\u4f30\u8ba1\u4e00\u4e9b\u6211\u4eec\u7684\u6570\u636e\uff1a"
     ]
    },
    {
     "cell_type": "code",
     "collapsed": false,
     "input": [
      "w = 1. / e ** 2\n",
      "print(\"\"\"\n",
      "      F_true = {0}\n",
      "      F_est  = {1:.0f} +/- {2:.0f} (based on {3} measurements)\n",
      "      \"\"\".format(F_true, (w * F).sum() / w.sum(), w.sum() ** -0.5, N))"
     ],
     "language": "python",
     "metadata": {},
     "outputs": [
      {
       "output_type": "stream",
       "stream": "stdout",
       "text": [
        "\n",
        "      F_true = 1000\n",
        "      F_est  = 998 +/- 4 (based on 50 measurements)\n",
        "      \n"
       ]
      }
     ],
     "prompt_number": 3
    },
    {
     "cell_type": "markdown",
     "metadata": {},
     "source": [
      "\u53ef\u4ee5\u770b\u51fa\uff0c\u4ee550\u6b21\u6d4b\u91cf\u5f97\u5230\u7684\u89c2\u6d4b\u503c\u4e3a\u8f93\u5165\uff0c\u5f97\u51fa\u6211\u4eec\u7684\u4f30\u8ba1\u8bef\u5dee\u5728\u5343\u5206\u4e4b4\u3002\n",
      "\n",
      "### \u7b80\u6613\u5149\u91cf\u5b50\u8ba1\u91cf\u7684\u8d1d\u53f6\u65af\u65b9\u6cd5\n",
      "\n",
      "\u4f60\u53ef\u80fd\u8ba4\u4e3a\uff0c\u5982\u679c\u6309\u7167\u8d1d\u53f6\u65af\u65b9\u6cd5\uff0c\u901a\u7bc7\u90fd\u5f97\u4f7f\u7528\u6982\u7387\u8ba1\u7b97\u3002\u6211\u4eec\u771f\u6b63\u60f3\u8ba1\u7b97\u7684\u5176\u5b9e\u662f\u6211\u4eec\u5bf9\u53c2\u6570\u7684\u4e3b\u89c2\u8ba4\u8bc6\uff0c\u5728\u672c\u4f8b\u4e2d\u5c31\u662f\uff1a"
     ]
    },
    {
     "cell_type": "markdown",
     "metadata": {},
     "source": [
      "$$ P(F_{\\rm true}~|~D) $$"
     ]
    },
    {
     "cell_type": "markdown",
     "metadata": {},
     "source": [
      "\u53ef\u4ee5\u770b\u51fa\u8fd9\u4e0e\u9891\u7387\u4e3b\u4e49*\u5b8c\u6210\u76f8\u53cd*\uff0c\u8981\u5bf9$F_{\\rm true}$\u8fd9\u6837\u7684\u56fa\u5b9a\u503c\u5efa\u6a21\u6c42\u89e3\uff0c*\u6982\u7387\u505a\u4e3a\u6a21\u578b\u53c2\u6570\u6ca1\u6709\u4efb\u4f55\u610f\u4e49*\u3002\u7136\u800c\uff0c\u8d1d\u53f6\u65af\u4e3b\u4e49\u5374\u5b8c\u5168\u53ef\u4ee5\u63a5\u53d7\u3002\n",
      "\n",
      "\u8d1d\u53f6\u65af\u4e3b\u4e49\u4f7f\u7528[\u8d1d\u53f6\u65af\u5b9a\u7406](http://en.wikipedia.org/wiki/Bayes\\'_theorem)\u8fd9\u4e00\u57fa\u672c\u6982\u7387\u8bba\u516c\u5f0f\uff1a\n",
      "\n",
      "$$ P(F_{\\rm true}~|~D) = \\frac{P(D~|~F_{\\rm true})~P(F_{\\rm true})}{P(D)} $$\n",
      "\n",
      "\u867d\u7136\u8d1d\u53f6\u65af\u5b9a\u7406\u8fd9\u4e00\u6cd5\u5219\u672c\u8eab\u6ca1\u6709\u4e89\u8bae\uff0c\u8d1d\u53f6\u65af\u4e3b\u4e49\u7684\u540d\u5b57\u5c31\u4ece\u90a3\u513f\u6765\uff0c\u4f46\u662f\u8d1d\u53f6\u65af\u4e3b\u4e49\u5bf9\u6982\u7387\u6709\u4e89\u8bae\u7684\u89e3\u91ca\u5374\u662f\u6697\u542b\u5728\u6cd5\u5219\u7684$P(F_{\\rm true}~|~D)$\u4e4b\u4e2d\u3002"
     ]
    },
    {
     "cell_type": "markdown",
     "metadata": {},
     "source": [
      "\u8ba9\u6211\u4eec\u4ed4\u7ec6\u770b\u770b\u516c\u5f0f\u4e2d\u7684\u672f\u8bed\uff1a\n",
      "\n",
      "- $P(F_{\\rm true}~|~D)$: **\u540e\u9a8c\u6982\u7387**\uff0c\u662f\u5728\u5df2\u83b7\u5f97\u7684\u6570\u636e\u6761\u4ef6\u4e0b\u6a21\u578b\u53c2\u6570\u7684\u6982\u7387\uff1a\u8fd9\u662f\u6211\u4eec\u60f3\u8981\u8ba1\u7b97\u7684\u3002\n",
      "- $P(D~|~F_{\\rm true})$: **\u76f8\u4f3c\u5ea6**\uff0c\u4e0e\u4e0a\u9762\u9891\u7387\u4e3b\u4e49\u7684\u4f3c\u7136\u4f30\u8ba1$\\mathcal{L}(D~|~F_{\\rm true})$\u6210\u6b63\u6bd4\u3002\n",
      "- $P(F_{\\rm true})$: **\u5148\u9a8c\u6982\u7387**\uff0c\u5728\u89c2\u5bdf\u6570\u636e$D$\u4e4b\u524d\u6211\u4eec\u5bf9\u4e8b\u4ef6\u4e0d\u786e\u5b9a\u6027\u7684\u8ba4\u8bc6\u3002\n",
      "- $P(D)$: **\u6807\u51c6\u5316\u5e38\u91cf**\uff0c\u5bf9\u5b9e\u9645\u6570\u91cf\u8fdb\u884c\u7b80\u5355\u6807\u51c6\u5316\u3002"
     ]
    },
    {
     "cell_type": "markdown",
     "metadata": {},
     "source": [
      "\u5982\u679c\u6211\u4eec\u8bbe\u7f6e$P(F_{\\rm true}) \\propto 1$(*\u5148\u9a8c\u6982\u7387\u4e0d\u53d8*)\uff0c\u90a3\u4e48\u4f1a\u53d1\u73b0\n",
      "\n",
      "$$P(F_{\\rm true}|D) \\propto \\mathcal{L}(D|F_{\\rm true})$$\n",
      "\n",
      "\u4e5f\u5c31\u662f\u8bf4\u8d1d\u53f6\u65af\u4e3b\u4e49\u7684\u6982\u7387\u662f\u9891\u7387\u4e3b\u4e49\u4f3c\u7136\u4f30\u8ba1\u7ed3\u679c\u7684\u6700\u5927\u503c\uff01\u56e0\u6b64\uff0c\u9051\u8bba\u4e24\u79cd\u7406\u8bba\u7684\u5dee\u5f02\uff0c\u6211\u4eec\u4f1a\u53d1\u73b0(\u81f3\u5c11\u662f\u7b80\u5355\u95ee\u9898)\u4e24\u79cd\u4f30\u8ba1\u662f\u7b49\u4ef7\u7684\u3002"
     ]
    },
    {
     "cell_type": "markdown",
     "metadata": {},
     "source": [
      "### \u4ec0\u4e48\u53eb\u5148\u9a8c\u6982\u7387\uff1f\n",
      "\n",
      "\u4f60\u4f1a\u53d1\u73b0\uff0c\u6211\u4e3a\u4e86\u56fe\u7701\u4e8b\u513f\uff0c\u5148\u9a8c\u6982\u7387$P(F_{\\rm true})$\u6ca1\u89e3\u91ca\u6e05\u695a\u3002\u5148\u9a8c\u6982\u7387\u5141\u8bb8\u5728\u8ba1\u7b97\u4e2d\u5305\u542b\u5176\u4ed6\u6709\u7528\u7684\u4fe1\u606f\uff0c\u5b9e\u9645\u5e94\u7528\u4e2d\u7528\u591a\u79cd\u6d4b\u91cf\u65b9\u6cd5\u7ec4\u5408\u5bf9\u67d0\u4e00\u4e8b\u4ef6\u8fdb\u884c\u8bc4\u4f30\u662f\u975e\u5e38\u6709\u7528\u7684\uff08\u6bd4\u5982[\u5b87\u5b99\u6210\u56e0\u7684\u53c2\u6570\u4f30\u8ba1](http://background.uchicago.edu/~whu/araa/node35.html)\uff09\u3002\u7136\u800c\uff0c\u786e\u5b9e\u5148\u9a8c\u6982\u7387\u7684\u5fc5\u8981\u6027\u4e5f\u662f\u8d1d\u53f6\u65af\u5206\u6790\u7684\u4e89\u8bae\u4e4b\u4e00\u3002\n",
      "\n",
      "\u5f53\u5148\u9a8c\u4e8b\u5b9e\u4e0d\u5b58\u5728\u65f6\uff0c\u9891\u7387\u4e3b\u4e49\u8005\u4f1a\u8bf4\u5148\u9a8c\u6982\u7387\u4e0d\u9760\u8c31\u3002\u5c3d\u7ba1\u7528\u4e00\u4e2a[**\u672a\u77e5\u5148\u9a8c\u6982\u7387**](http://www.stats.org.uk/priors/noninformative/)\u66f4\u7b80\u5355\uff0c\u50cf\u524d\u9762\u63d0\u5230\u90a3\u4e2a\u5148\u9a8c\u6982\u7387\u5e38\u91cf\uff0c\u4f46\u662f\u4e5f\u4f1a\u6709\u4e00\u4e9b[\u610f\u5916\u7684\u5fae\u5999\u4e4b\u5904](http://normaldeviate.wordpress.com/2013/07/13/lost-causes-in-statistics-ii-noninformative-priors/comment-page-1/)\u3002\u5f88\u591a\u5b9e\u9a8c\u8868\u660e\uff0c\u771f\u6b63\u7684\u672a\u77e5\u5148\u9a8c\u6982\u7387\u662f\u4e0d\u5b58\u5728\u7684\uff01\u9891\u7387\u4e3b\u4e49\u8005\u8ba4\u4e3a\u4e3b\u89c2\u9009\u62e9\u5148\u9a8c\u6982\u7387\u4f1a\u504f\u79bb\u7ed3\u679c\uff0c\u4e0d\u80fd\u8fdb\u884c\u7edf\u8ba1\u6570\u636e\u5206\u6790\u3002\n",
      "\n",
      "\u8d1d\u53f6\u65af\u4e3b\u4e49\u8005\u8ba4\u4e3a\u9891\u7387\u4e3b\u4e49\u89e3\u51b3\u4e0d\u4e86\u95ee\u9898\uff0c\u53ea\u60f3\u7b80\u5355\u7684\u907f\u5f00\u3002\u5728\u786e\u5b9a\uff08\u9690\u542b\u7684\uff09\u5148\u9a8c\u6982\u7387\u8fd9\u70b9\u4e0a\uff0c\u9891\u7387\u4e3b\u4e49\u7ecf\u5e38\u88ab\u7b80\u5355\u5730\u770b\u4f5c\u8d1d\u53f6\u65af\u4e3b\u4e49\u7406\u8bba\u7684\u7279\u6b8a\u60c5\u5f62\uff1a\u8d1d\u53f6\u65af\u4e3b\u4e49\u4f1a\u8981\u6c42\u6700\u597d\u8ba9\u9690\u542b\u53d8\u6210\u660e\u786e\uff0c\u5373\u4f7f\u8fd9\u79cd\u9009\u62e9\u53ef\u80fd\u5305\u542b\u4e3b\u89c2\u6027\u3002\n",
      "\n",
      "### \u5149\u91cf\u5b50\u8ba1\u91cf\uff1a\u8d1d\u53f6\u65af\u65b9\u6cd5\n",
      "\n",
      "\u79bb\u5f00\u8fd9\u4e9b\u7406\u8bba\u4e4b\u4e89\uff0c\u8ba9\u6211\u4eec\u770b\u770b\u8d1d\u53f6\u65af\u4e3b\u4e49\u7684\u5b9e\u9645\u8ba1\u7b97\u7ed3\u679c\u3002\u56e0\u4e3a\u53ea\u8003\u8651\u4e00\u4e2a\u53c2\u6570\uff0c\u53ef\u4ee5\u5c06\u540e\u9a8c\u6982\u7387$P(F_{\\rm true}~|~D)$\u5f53\u4f5c$F_{\\rm true}$\u7684\u51fd\u6570\u8ba1\u7b97\uff1a\u8fd9\u4e2a\u5206\u5e03\u53cd\u6620\u4e86\u6211\u4eec\u5bf9$F_{\\rm true}$\u5206\u89c2\u5e03\u4e3b\u7684\u8ba4\u8bc6\u3002\u4f46\u662f\u968f\u7740\u6a21\u578b\u89c4\u6a21\u7684\u589e\u957f\uff0c\u8fd9\u79cd\u65b9\u6cd5\u5c31\u53d8\u5f97\u96be\u4ee5\u628a\u63e1\u3002\u56e0\u6b64\uff0c\u8d1d\u53f6\u65af\u4e3b\u4e49\u8ba1\u7b97\u65b9\u6cd5\u5e38\u5e38\u4f9d\u8d56\u4e8e\u62bd\u6837\u65b9\u6cd5\uff0c\u5982[\u8499\u7279\u5361\u7f57\u9a6c\u5c14\u53ef\u592b\u94fe(MCMC)](http://en.wikipedia.org/wiki/Markov_chain_Monte_Carlo)\u3002"
     ]
    },
    {
     "cell_type": "markdown",
     "metadata": {},
     "source": [
      "\u8fd9\u91cc\u4e0d\u7ec6\u7a76MCMC\u7684\u7406\u8bba\u77e5\u8bc6\uff0c\u6211\u7528Dan Foreman-Mackey\u7684Python [emcee](http://dan.iel.fm/emcee/current/)\u5305\u505a\u4e00\u4e2a\u7b80\u5355\u7684\u5e94\u7528\u3002\u76ee\u6807\u662f*\u4ea7\u751f\u4e00\u5806\u6ee1\u8db3\u540e\u9a8c\u6982\u7387\u5206\u5e03\u7684\u70b9*\uff0c\u7528\u8fd9\u4e9b\u70b9\u6765\u786e\u5b9a\u6211\u4eec\u95ee\u9898\u7684\u7b54\u6848\u3002\n",
      "\n",
      "\u8981\u6f14\u793aMCMC\uff0c\u6211\u4eec\u7528Python\u5b9a\u4e49\u5148\u9a8c\u6982\u7387$P(F_{\\rm true})$\uff0c\u4f3c\u7136\u4f30\u8ba1\u503c$P(D~|~F_{\\rm true})$\uff0c\u4ee5\u53ca\u540e\u9a8c\u6982\u7387$P(F_{\\rm true}~|~D)$\u3002\u6211\u4eec\u7684\u6a21\u578b\u662f\u4e00\u7ef4\u7684\uff0c\u4f46\u662f\u4e3a\u4e86\u5904\u7406\u591a\u7ef4\u6a21\u578b\uff0c\u6211\u4eec\u8981\u5b9a\u4e49\u53c2\u6570\u6570\u7ec4$\\theta$\uff0c\u5728\u6211\u4eec\u7684\u4f8b\u5b50\u4e2d\u5c31\u662f$\\theta = [F_{\\rm true}]$\uff1a"
     ]
    },
    {
     "cell_type": "code",
     "collapsed": false,
     "input": [
      "def log_prior(theta):\n",
      "    return 1  # flat prior\n",
      "\n",
      "def log_likelihood(theta, F, e):\n",
      "    return -0.5 * np.sum(np.log(2 * np.pi * e ** 2)\n",
      "                         + (F - theta[0]) ** 2 / e ** 2)\n",
      "\n",
      "def log_posterior(theta, F, e):\n",
      "    return log_prior(theta) + log_likelihood(theta, F, e)"
     ],
     "language": "python",
     "metadata": {},
     "outputs": [],
     "prompt_number": 4
    },
    {
     "cell_type": "markdown",
     "metadata": {},
     "source": [
      "\u73b0\u5728\u6211\u4eec\u5f00\u59cb\u89e3\u51b3\u95ee\u9898\uff0c\u4ea7\u751f\u968f\u673a\u6570\u6765\u731c\u6d4b\u8fd9\u4e9b\u9a6c\u5c14\u53ef\u592b\u94fe\u4e0a\u7684\u70b9\u3002"
     ]
    },
    {
     "cell_type": "code",
     "collapsed": false,
     "input": [
      "ndim = 1  # number of parameters in the model\n",
      "nwalkers = 50  # number of MCMC walkers\n",
      "nburn = 1000  # \"burn-in\" period to let chains stabilize\n",
      "nsteps = 2000  # number of MCMC steps to take\n",
      "\n",
      "# we'll start at random locations between 0 and 2000\n",
      "starting_guesses = 2000 * np.random.rand(nwalkers, ndim)\n",
      "\n",
      "import emcee\n",
      "sampler = emcee.EnsembleSampler(nwalkers, ndim, log_posterior, args=[F, e])\n",
      "sampler.run_mcmc(starting_guesses, nsteps)\n",
      "\n",
      "sample = sampler.chain  # shape = (nwalkers, nsteps, ndim)\n",
      "sample = sampler.chain[:, nburn:, :].ravel()  # discard burn-in points"
     ],
     "language": "python",
     "metadata": {},
     "outputs": [],
     "prompt_number": 5
    },
    {
     "cell_type": "markdown",
     "metadata": {},
     "source": [
      "\u5982\u679c\u90fd\u80fd\u6b63\u5e38\u8fd0\u884c\uff0c\u6570\u503c``sample``\u4f1a\u5305\u542b\u6ee1\u8db3\u540e\u9a8c\u6982\u7387\u5206\u5e03\u768450000\u4e2a\u70b9\u3002\u8ba9\u6211\u4eec\u753b\u51fa\u6765\u770b\u770b\uff1a"
     ]
    },
    {
     "cell_type": "code",
     "collapsed": false,
     "input": [
      "# plot a histogram of the sample\n",
      "plt.hist(sample, bins=50, histtype=\"stepfilled\", alpha=0.3, normed=True)\n",
      "\n",
      "# plot a best-fit Gaussian\n",
      "F_fit = np.linspace(975, 1025)\n",
      "pdf = stats.norm(np.mean(sample), np.std(sample)).pdf(F_fit)\n",
      "\n",
      "plt.plot(F_fit, pdf, '-k')\n",
      "plt.xlabel(\"F\"); plt.ylabel(\"P(F)\")"
     ],
     "language": "python",
     "metadata": {},
     "outputs": [
      {
       "metadata": {},
       "output_type": "pyout",
       "prompt_number": 6,
       "text": [
        "<matplotlib.text.Text at 0x7f3398af6050>"
       ]
      },
      {
       "metadata": {},
       "output_type": "display_data",
       "png": "[encoded data removed]",
       "text": [
        "<matplotlib.figure.Figure at 0x7f3398c0ac50>"
       ]
      }
     ],
     "prompt_number": 6
    },
    {
     "cell_type": "markdown",
     "metadata": {},
     "source": [
      "\u6211\u4eec\u4ece(\u6b63\u6001)\u540e\u9a8c\u6982\u7387\u5206\u5e03\u5f97\u5230\u4e00\u6837\u672c\u3002\u540e\u9a8c\u6982\u7387\u7684\u671f\u671b\u548c\u6807\u51c6\u5dee\u662f\u7531\u524d\u9762\u7684\u9891\u7387\u4e3b\u4e49\u6781\u5927\u4f3c\u7136\u4f30\u8ba1\u5f97\u6765\u7684\uff1a"
     ]
    },
    {
     "cell_type": "code",
     "collapsed": false,
     "input": [
      "print(\"\"\"\n",
      "      F_true = {0}\n",
      "      F_est  = {1:.0f} +/- {2:.0f} (based on {3} measurements)\n",
      "      \"\"\".format(F_true, np.mean(sample), np.std(sample), N))"
     ],
     "language": "python",
     "metadata": {},
     "outputs": [
      {
       "output_type": "stream",
       "stream": "stdout",
       "text": [
        "\n",
        "      F_true = 1000\n",
        "      F_est  = 998 +/- 4 (based on 50 measurements)\n",
        "      \n"
       ]
      }
     ],
     "prompt_number": 7
    },
    {
     "cell_type": "markdown",
     "metadata": {},
     "source": [
      "\u53ef\u4ee5\u770b\u51fa\uff0c\u5728\u7b80\u5355\u60c5\u51b5\u4e0b\uff0c\u8d1d\u53f6\u65af\u4e3b\u4e49\u548c\u9891\u7387\u4e3b\u4e49\u4e24\u79cd\u65b9\u6cd5\u7684\u7ed3\u679c\u76f8\u540c\uff01\n",
      "\n",
      "### \u5206\u6790\n",
      "\n",
      "\u73b0\u5728\uff0c\u4f60\u53ef\u80fd\u8ba4\u4e3a\u8d1d\u53f6\u65af\u4e3b\u4e49\u7684\u590d\u6742\u6027\u6ca1\u5565\u5fc5\u8981\uff0c\u8fd9\u4e2a\u4f8b\u5b50\u5df2\u7ecf\u5145\u5206\u8bc1\u660e\u4e86\u3002\u5176\u5b9e\uff0c\u7528\u4e00\u4e2a[\u4eff\u5c04\u4e0d\u53d8](http://en.wikipedia.org/wiki/Affine_geometry)MCMC\u7efc\u5408\u6837\u672c\u53d1\u751f\u5668\u6765\u6a21\u62df\u8fd9\u6837\u4e00\u4e2a\u7b80\u5355\u7684\u4e00\u7ef4\u6b63\u6001\u5206\u5e03\uff0c\u5b9e\u5728\u662f\u6740\u9e21\u7528\u725b\u5200\uff0c\u4f46\u662f\u8fd9\u4e48\u505a\u7684\u76ee\u7684\u662f\u8981\u8868\u660e\u8be5\u65b9\u6cd5\u540c\u6837\u9002\u7528\u4e8e\u591a\u7ef4\u5ea6\u7684\u590d\u6742\u540e\u9a8c\u6982\u7387\u60c5\u5f62\uff0c\u4e5f\u80fd\u5728\u590d\u6742\u6761\u4ef6\u4e0b\u63d0\u4f9b\u4f3c\u7136\u4f30\u8ba1\u4e0d\u53ef\u80fd\u63d0\u4f9b\u7684\u4f18\u7f8e\u7684\u7ed3\u679c\u3002\n",
      "\n",
      "\u53e6\u5916\uff0c\u4f60\u8fd8\u53ef\u80fd\u6ce8\u610f\u5230\u4e00\u4e2a\u5c0f\u4f0e\u4fe9\uff1a\u6700\u540e\uff0c\u6211\u4eec\u7528\u6765\u9891\u7387\u4e3b\u4e49\u65b9\u6cd5\u6765\u63cf\u8ff0\u540e\u9a8c\u6982\u7387\u6837\u672c\uff01\u5f53\u6211\u4eec\u8ba1\u7b97\u6837\u672c\u671f\u671b\u548c\u6807\u51c6\u5dee\u7684\u65f6\u5019\uff0c\u6211\u4eec\u4f7f\u7528\u4e86\u4e00\u4e2a\u6807\u51c6\u7684\u9891\u7387\u4e3b\u4e49\u65b9\u6cd5\u6765\u523b\u753b\u540e\u9a8c\u6982\u7387\u5206\u5e03\u3002\u7528\u7eaf\u8d1d\u53f6\u65af\u7406\u8bba\u5206\u6790\u8fd9\u4e2a\u95ee\u9898\u7684\u7ed3\u679c\u53ef\u80fd\u8981\u5305\u542b\u540e\u9a8c\u6982\u7387\u672c\u8eab(\u6bd4\u5982\uff0c\u5b83\u7684\u7c7b\u4f3c\u6837\u672c)\u3002\u4e5f\u5c31\u662f\u8bf4\uff0c\u5728\u7eaf\u8d1d\u53f6\u65af\u4e3b\u4e49\u7684\u7ed3\u679c\u4e2d\uff0c\u95ee\u9898\u4e0d\u662f\u4e00\u4e2a\u7b80\u5355\u7684\u6570\u503c\u548c\u8bef\u5dee\uff0c\u800c\u662f\u540e\u9a8c\u6982\u7387\u5206\u5e03\u548c\u6a21\u578b\u53c2\u6570\uff01\n",
      "\n",
      "## \u589e\u52a0\u4e00\u4e2a\u7ef4\u5ea6\uff1a\u7814\u7a76\u66f4\u590d\u6742\u7684\u6a21\u578b\n",
      "\n",
      "\u8ba9\u6211\u4eec\u770b\u4e00\u4e2a\u66f4\u590d\u6742\u7684\u60c5\u51b5\uff0c\u518d\u6bd4\u8f83\u4e00\u4e0b\u9891\u7387\u4e3b\u4e49\u548c\u8d1d\u53f6\u65af\u4e3b\u4e49\u7684\u7ed3\u679c\u3002\u524d\u9762\u6211\u4eec\u5047\u8bbe\u661f\u661f\u662f\u9759\u6b62\u7684\uff0c\u73b0\u5728\u5047\u8bbe\u6211\u4eec\u89c2\u5bdf\u7684\u5929\u4f53\u662f\u4e00\u4e2a\u968f\u673a\u53d8\u91cf\uff1b\u5c31\u662f\u8bf4\u5b83\u4f1a\u968f\u7740\u65f6\u95f4\u53d8\u5316(\u5c31\u662f\u7c7b\u661f\u4f53\u90a3\u79cd)\u3002\n",
      "\n",
      "\u6211\u4eec\u5c06\u7528\u53cc\u53c2\u6570\u6b63\u6001\u5206\u5e03\u6765\u8868\u793a\u8fd9\u4e2a\u5929\u4f53\uff1a$\\theta = [\\mu, \\sigma]$\uff0c\u5176\u4e2d\uff0c$\\mu$\u662f\u671f\u671b\u503c\uff0c$\\sigma$\u662f*\u5929\u4f53\u672c\u5f81*\u53d8\u91cf\u7684\u6807\u51c6\u5dee\u3002\u4e8e\u662f\u6211\u4eec\u6bcf\u6b21\u89c2\u5bdf\u65f6\u771f\u5b9e\u4eae\u5ea6\u6982\u7387\u7684\u6a21\u578b\uff1a\n",
      "\n",
      "$$ F_{\\rm true} \\sim \\frac{1}{\\sqrt{2\\pi\\sigma^2}}\\exp\\left[\\frac{-(F - \\mu)^2}{2\\sigma^2}\\right]$$\n",
      "\n",
      "\u73b0\u5728\uff0c\u6211\u4eec\u518d\u8003\u8651$N$\u6b21\u89c2\u5bdf\u91cc\u6bcf\u6b21\u7684\u8bef\u5dee\u3002\u53ef\u4ee5\u8fd9\u4e48\u4ea7\u751f\uff1a"
     ]
    },
    {
     "cell_type": "code",
     "collapsed": false,
     "input": [
      "np.random.seed(42)  # for reproducibility\n",
      "N = 100  # we'll use more samples for the more complicated model\n",
      "mu_true, sigma_true = 1000, 15  # stochastic flux model\n",
      "\n",
      "F_true = stats.norm(mu_true, sigma_true).rvs(N)  # (unknown) true flux\n",
      "F = stats.poisson(F_true).rvs()  # observed flux: true flux plus Poisson errors.\n",
      "e = np.sqrt(F)  # root-N error, as above"
     ],
     "language": "python",
     "metadata": {},
     "outputs": [],
     "prompt_number": 8
    },
    {
     "cell_type": "markdown",
     "metadata": {},
     "source": [
      "### \u53ef\u53d8\u6761\u4ef6\u4e0b\u7684\u5149\u91cf\u5b50\u8ba1\u91cf\uff1a\u9891\u7387\u4e3b\u4e49\u65b9\u6cd5\n",
      "\n",
      "\u4f3c\u7136\u4f30\u8ba1\u7ed3\u679c\u662f\u672c\u5f81\u5206\u5e03\u4e0e\u8bef\u5dee\u5206\u5e03\u7684\u5377\u79ef\uff0c\u53ef\u4ee5\u5f97\u51fa"
     ]
    },
    {
     "cell_type": "markdown",
     "metadata": {},
     "source": [
      "$$\\mathcal{L}(D~|~\\theta) = \\prod_{i=1}^N \\frac{1}{\\sqrt{2\\pi(\\sigma^2 + e_i^2)}}\\exp\\left[\\frac{-(F_i - \\mu)^2}{2(\\sigma^2 + e_i^2)}\\right]$$\n",
      "\n",
      "\u4e0e\u524d\u9762\u7c7b\u4f3c\uff0c\u6211\u4eec\u53ef\u4ee5\u901a\u8fc7\u6c42\u5fae\u5206\u89e3\u51fa\u4f3c\u7136\u4f30\u8ba1\u7684\u6700\u5927\u503c\uff0c\u5373$\\mu$\u7684\u6700\u4f73\u4f30\u8ba1\uff1a\n",
      "\n",
      "$$\\mu_{est} =  \\frac{\\sum w_i F_i}{\\sum w_i};~~w_i = \\frac{1}{\\sigma^2 + e_i^2} $$\n",
      "\n",
      "\u8fd9\u91cc\u6709\u4e2a\u95ee\u9898\uff1a\u53c2\u6570$\\mu$\u7684\u503c*\u4f9d\u8d56\u4e8e*$\\sigma$\u7684\u503c\u3002\u4e24\u8005\u5177\u6709\u76f8\u5173\u6027\uff0c\u56e0\u6b64\u6211\u4eec\u4e0d\u80fd\u76f4\u63a5\u4f7f\u7528\u9891\u7387\u4e3b\u4e49\u7684\u89e3\u6790\u65b9\u6cd5\u6c42\u89e3\u3002\n",
      "\n",
      "\u7136\u800c\uff0c\u6211\u4eec\u80fd\u7528\u6570\u503c\u5206\u6790\u8ba1\u7b97\u6765\u89e3\u6781\u5927\u4f3c\u7136\u4f30\u8ba1\u503c\u3002\u8fd9\u91cc\u6211\u4eec\u7528Scipy\u91cc\u9762\u7684\u6700\u4f18\u5316\u5de5\u5177[optimize](http://docs.scipy.org/doc/scipy/reference/optimize.html)\uff1a"
     ]
    },
    {
     "cell_type": "code",
     "collapsed": false,
     "input": [
      "def log_likelihood(theta, F, e):\n",
      "    return -0.5 * np.sum(np.log(2 * np.pi * (theta[1] ** 2 + e ** 2))\n",
      "                         + (F - theta[0]) ** 2 / (theta[1] ** 2 + e ** 2))\n",
      "\n",
      "# maximize likelihood <--> minimize negative likelihood\n",
      "def neg_log_likelihood(theta, F, e):\n",
      "    return -log_likelihood(theta, F, e)\n",
      "\n",
      "from scipy import optimize\n",
      "theta_guess = [900, 5]\n",
      "theta_est = optimize.fmin(neg_log_likelihood, theta_guess, args=(F, e))\n",
      "print(\"\"\"\n",
      "      Maximum likelihood estimate for {0} data points:\n",
      "          mu={theta[0]:.0f}, sigma={theta[1]:.0f}\n",
      "      \"\"\".format(N, theta=theta_est))"
     ],
     "language": "python",
     "metadata": {},
     "outputs": [
      {
       "output_type": "stream",
       "stream": "stdout",
       "text": [
        "Optimization terminated successfully.\n",
        "         Current function value: 502.839505\n",
        "         Iterations: 58\n",
        "         Function evaluations: 114\n",
        "\n",
        "      Maximum likelihood estimate for 100 data points:\n",
        "          mu=999, sigma=19\n",
        "      \n"
       ]
      }
     ],
     "prompt_number": 9
    },
    {
     "cell_type": "markdown",
     "metadata": {},
     "source": [
      "Scipy\u7ed9\u51fa\u4e86$\\mu$\u548c$\\sigma$\u7684\u6781\u5927\u4f3c\u7136\u4f30\u8ba1\u503c\u7684\u6700\u4f73\u7ec4\u5408\u3002\u4f46\u662f\u95ee\u9898\u624d\u89e3\u51b3\u4e00\u534a\uff1a\u6211\u4eec\u9700\u8981\u786e\u5b9a\u7b54\u6848\u7684\u7f6e\u4fe1\u533a\u95f4\uff0c\u4e5f\u5c31\u662f\u6211\u4eec\u8981\u8ba1\u7b97$\\mu$\u548c$\\sigma$\u7684\u8bef\u5dee\u3002\n",
      "\n",
      "\u5728\u9891\u7387\u4e3b\u4e49\u6a21\u5f0f\u4e2d\u6709\u4e0d\u540c\u7684\u65b9\u6cd5\u6765\u786e\u5b9a\u8bef\u5dee\u3002\u5982\u524d\u6240\u8ff0\uff0c\u6211\u4eec\u53ef\u4ee5\u7528\u6b63\u6001\u8fd1\u4f3c\u53bb\u62df\u5408\u6700\u5927\u4f3c\u7136\u4f30\u8ba1\u548c\u534f\u65b9\u5dee\u77e9\u9635(\u8fd9\u91cc\u6211\u4eec\u5e94\u8be5\u7528\u6570\u503c\u5206\u6790\u800c\u4e0d\u662f\u89e3\u6790\u65b9\u6cd5)\u3002\u53e6\u5916\uff0c\u6211\u4eec\u53ef\u4ee5\u8ba1\u7b97\u7edf\u8ba1\u91cf\u5982$\\chi^2$\u548c$\\chi^2_{\\rm dof}$\uff0c\u7136\u540e\u4f7f\u7528[\u5361\u65b9\u68c0\u9a8c][1]\u6765\u51b3\u5b9a\u7f6e\u4fe1\u533a\u95f4\uff0c\u8fd8\u9700\u8981\u5047\u8bbe\u4f3c\u7136\u4f30\u8ba1\u5177\u6709\u6b63\u6001\u6027\u3002\u6211\u4eec\u4e5f\u53ef\u4ee5\u4f7f\u7528\u968f\u673a\u62bd\u6837\u65b9\u6cd5\u5982[Jackknife][2]\u6216\u8005[Bootstrap][3]\uff0c\u4e3a\u4e86\u7814\u7a76\u7ed3\u679c\u7684\u786e\u5b9a\u7a0b\u5ea6\uff0c\u4f7f\u8f93\u5165\u6570\u636e\u7684\u968f\u673a\u6837\u672c\u7684\u4f3c\u7136\u4f30\u8ba1\u6700\u5927\u5316\u3002\n",
      "\n",
      "\u8fd9\u4e9b\u65b9\u6cd5\u90fd\u884c\uff0c\u4f46\u662f\u6bcf\u79cd\u65b9\u6cd5\u90fd\u6709\u5404\u81ea\u7684\u5047\u8bbe\u524d\u63d0\u548c\u7279\u70b9\u3002\u6211\u4eec\u7528Python [astroML][4]\u5305\u91cc\u9762\u7684basic bootstrap resampler:\n",
      "\n",
      "[1]: http://en.wikipedia.org/wiki/Pearson%27s_chi-squared_test\n",
      "[2]: http://en.wikipedia.org/wiki/Jackknife_(statistics)\n",
      "[3]: http://en.wikipedia.org/wiki/Bootstrapping_(statistics)\n",
      "[4]: http://astroML.org"
     ]
    },
    {
     "cell_type": "code",
     "collapsed": false,
     "input": [
      "from astroML.resample import bootstrap\n",
      "\n",
      "def fit_samples(sample):\n",
      "    # sample is an array of size [n_bootstraps, n_samples]\n",
      "    # compute the maximum likelihood for each bootstrap.\n",
      "    return np.array([optimize.fmin(neg_log_likelihood, theta_guess,\n",
      "                                   args=(F, np.sqrt(F)), disp=0)\n",
      "                     for F in sample])\n",
      "\n",
      "samples = bootstrap(F, 1000, fit_samples)  # 1000 bootstrap resamplings"
     ],
     "language": "python",
     "metadata": {},
     "outputs": [],
     "prompt_number": 10
    },
    {
     "cell_type": "markdown",
     "metadata": {},
     "source": [
      "\u548c\u524d\u9762\u7684\u8d1d\u53f6\u65af\u540e\u9a8c\u6982\u7387\u7684MCMC\u65b9\u6cd5\u7c7b\u4f3c\uff0c\u6211\u4eec\u5c06\u8ba1\u7b97\u6837\u672c\u671f\u671b\u503c\u548c\u6807\u51c6\u5dee\u6765\u786e\u5b9a\u53c2\u6570\u8bef\u5dee\u3002"
     ]
    },
    {
     "cell_type": "code",
     "collapsed": false,
     "input": [
      "mu_samp = samples[:, 0]\n",
      "sig_samp = abs(samples[:, 1])\n",
      "\n",
      "print \" mu    = {0:.0f} +/- {1:.0f}\".format(mu_samp.mean(), mu_samp.std())\n",
      "print \" sigma = {0:.0f} +/- {1:.0f}\".format(sig_samp.mean(), sig_samp.std())"
     ],
     "language": "python",
     "metadata": {},
     "outputs": [
      {
       "output_type": "stream",
       "stream": "stdout",
       "text": [
        " mu    = 999 +/- 4\n",
        " sigma = 18 +/- 5\n"
       ]
      }
     ],
     "prompt_number": 11
    },
    {
     "cell_type": "markdown",
     "metadata": {},
     "source": [
      "\u6211\u5f97\u8bf4\u660ebootstrap resampling\u7684\u7ec6\u7a76\u6709**\u5927\u5806**\u8d44\u6599\u53ef\u4f9b\u53c2\u8003\uff0c\u8fd9\u91cc\u7c97\u7565\u5730\u8bf4\u660e\u4e00\u4e0b\u8fd9\u4e2a\u65b9\u6cd5\u7684\u7279\u70b9\u3002\u6700\u660e\u663e\u7684\u5730\u65b9\u5c31\u662f\u8bef\u5dee\u9700\u8981\u662f\u76f8\u5173\u7684\u3001\u975e\u6b63\u6001\u7684\uff0c\u4f46\u662f\u8fd9\u4e24\u4e2a\u7279\u70b9\u90fd\u4e0d\u80fd\u901a\u8fc7\u7b80\u5355\u7684\u8ba1\u7b97\u6bcf\u4e2a\u6a21\u578b\u53c2\u6570\u7684\u5747\u503c\u548c\u65b9\u5dee\u53cd\u6620\u51fa\u6765\u3002\u7136\u800c\uff0c\u6211\u76f8\u4fe1\u8fd9\u7ed9\u9891\u7387\u4e3b\u4e49\u63d0\u4f9b\u7684\u57fa\u672c\u7684\u89e3\u9898\u601d\u8def\u3002\n",
      "\n",
      "### \u53ef\u53d8\u6761\u4ef6\u4e0b\u7684\u5149\u91cf\u5b50\u8ba1\u91cf\uff1a\u8d1d\u53f6\u65af\u4e3b\u4e49\u65b9\u6cd5\n",
      "\n",
      "\u8d1d\u53f6\u65af\u4e3b\u4e49\u5bf9\u8fd9\u4e2a\u95ee\u9898\u7684\u89e3\u51b3\u65b9\u6cd5\u53ef\u4e4b\u524d\u90a3\u4e2a\u95ee\u9898\u57fa\u672c\u96f7\u540c\uff0c\u6211\u4eec\u53ef\u4ee5\u628a\u4e0a\u9762\u7684\u4ee3\u7801\u7b80\u5355\u6539\u6539\u5c31\u884c\u3002"
     ]
    },
    {
     "cell_type": "code",
     "collapsed": false,
     "input": [
      "def log_prior(theta):\n",
      "    # sigma needs to be positive.\n",
      "    if theta[1] <= 0:\n",
      "        return -np.inf\n",
      "    else:\n",
      "        return 0\n",
      "\n",
      "def log_posterior(theta, F, e):\n",
      "    return log_prior(theta) + log_likelihood(theta, F, e)\n",
      "\n",
      "# same setup as above:\n",
      "ndim, nwalkers = 2, 50\n",
      "nsteps, nburn = 2000, 1000\n",
      "\n",
      "starting_guesses = np.random.rand(nwalkers, ndim)\n",
      "starting_guesses[:, 0] *= 2000  # start mu between 0 and 2000\n",
      "starting_guesses[:, 1] *= 20    # start sigma between 0 and 20\n",
      "\n",
      "sampler = emcee.EnsembleSampler(nwalkers, ndim, log_posterior, args=[F, e])\n",
      "sampler.run_mcmc(starting_guesses, nsteps)\n",
      "\n",
      "sample = sampler.chain  # shape = (nwalkers, nsteps, ndim)\n",
      "sample = sampler.chain[:, nburn:, :].reshape(-1, 2)"
     ],
     "language": "python",
     "metadata": {},
     "outputs": [],
     "prompt_number": 12
    },
    {
     "cell_type": "markdown",
     "metadata": {},
     "source": [
      "\u73b0\u5728\u6709\u4e86\u6837\u672c\uff0c\u6211\u4eec\u53ef\u4ee5\u5229\u7528astroML\u5305\u65b9\u4fbf\u7684\u529f\u80fd\u6765\u753b\u51fa\u8f68\u8ff9\u56fe\uff0c\u5e76\u7528\u7b49\u9ad8\u7ebf\u63cf\u8ff01\u30012\u6807\u51c6\u5dee\u7684\u60c5\u51b5\uff1a"
     ]
    },
    {
     "cell_type": "code",
     "collapsed": false,
     "input": [
      "from astroML.plotting import plot_mcmc\n",
      "fig = plt.figure()\n",
      "ax = plot_mcmc(sample.T, fig=fig, labels=[r'$\\mu$', r'$\\sigma$'], colors='k')\n",
      "ax[0].plot(sample[:, 0], sample[:, 1], ',k', alpha=0.1)\n",
      "ax[0].plot([mu_true], [sigma_true], 'o', color='red', ms=10);"
     ],
     "language": "python",
     "metadata": {},
     "outputs": [
      {
       "ename": "ImportError",
       "evalue": "No module named sklearn.metrics",
       "output_type": "pyerr",
       "traceback": [
        "\u001b[1;31m---------------------------------------------------------------------------\u001b[0m\n\u001b[1;31mImportError\u001b[0m                               Traceback (most recent call last)",
        "\u001b[1;32m<ipython-input-13-a571a8878528>\u001b[0m in \u001b[0;36m<module>\u001b[1;34m()\u001b[0m\n\u001b[1;32m----> 1\u001b[1;33m \u001b[1;32mfrom\u001b[0m \u001b[0mastroML\u001b[0m\u001b[1;33m.\u001b[0m\u001b[0mplotting\u001b[0m \u001b[1;32mimport\u001b[0m \u001b[0mplot_mcmc\u001b[0m\u001b[1;33m\u001b[0m\u001b[0m\n\u001b[0m\u001b[0;32m      2\u001b[0m \u001b[0mfig\u001b[0m \u001b[1;33m=\u001b[0m \u001b[0mplt\u001b[0m\u001b[1;33m.\u001b[0m\u001b[0mfigure\u001b[0m\u001b[1;33m(\u001b[0m\u001b[1;33m)\u001b[0m\u001b[1;33m\u001b[0m\u001b[0m\n\u001b[0;32m      3\u001b[0m \u001b[0max\u001b[0m \u001b[1;33m=\u001b[0m \u001b[0mplot_mcmc\u001b[0m\u001b[1;33m(\u001b[0m\u001b[0msample\u001b[0m\u001b[1;33m.\u001b[0m\u001b[0mT\u001b[0m\u001b[1;33m,\u001b[0m \u001b[0mfig\u001b[0m\u001b[1;33m=\u001b[0m\u001b[0mfig\u001b[0m\u001b[1;33m,\u001b[0m \u001b[0mlabels\u001b[0m\u001b[1;33m=\u001b[0m\u001b[1;33m[\u001b[0m\u001b[1;34mr'$\\mu$'\u001b[0m\u001b[1;33m,\u001b[0m \u001b[1;34mr'$\\sigma$'\u001b[0m\u001b[1;33m]\u001b[0m\u001b[1;33m,\u001b[0m \u001b[0mcolors\u001b[0m\u001b[1;33m=\u001b[0m\u001b[1;34m'k'\u001b[0m\u001b[1;33m)\u001b[0m\u001b[1;33m\u001b[0m\u001b[0m\n\u001b[0;32m      4\u001b[0m \u001b[0max\u001b[0m\u001b[1;33m[\u001b[0m\u001b[1;36m0\u001b[0m\u001b[1;33m]\u001b[0m\u001b[1;33m.\u001b[0m\u001b[0mplot\u001b[0m\u001b[1;33m(\u001b[0m\u001b[0msample\u001b[0m\u001b[1;33m[\u001b[0m\u001b[1;33m:\u001b[0m\u001b[1;33m,\u001b[0m \u001b[1;36m0\u001b[0m\u001b[1;33m]\u001b[0m\u001b[1;33m,\u001b[0m \u001b[0msample\u001b[0m\u001b[1;33m[\u001b[0m\u001b[1;33m:\u001b[0m\u001b[1;33m,\u001b[0m \u001b[1;36m1\u001b[0m\u001b[1;33m]\u001b[0m\u001b[1;33m,\u001b[0m \u001b[1;34m',k'\u001b[0m\u001b[1;33m,\u001b[0m \u001b[0malpha\u001b[0m\u001b[1;33m=\u001b[0m\u001b[1;36m0.1\u001b[0m\u001b[1;33m)\u001b[0m\u001b[1;33m\u001b[0m\u001b[0m\n\u001b[0;32m      5\u001b[0m \u001b[0max\u001b[0m\u001b[1;33m[\u001b[0m\u001b[1;36m0\u001b[0m\u001b[1;33m]\u001b[0m\u001b[1;33m.\u001b[0m\u001b[0mplot\u001b[0m\u001b[1;33m(\u001b[0m\u001b[1;33m[\u001b[0m\u001b[0mmu_true\u001b[0m\u001b[1;33m]\u001b[0m\u001b[1;33m,\u001b[0m \u001b[1;33m[\u001b[0m\u001b[0msigma_true\u001b[0m\u001b[1;33m]\u001b[0m\u001b[1;33m,\u001b[0m \u001b[1;34m'o'\u001b[0m\u001b[1;33m,\u001b[0m \u001b[0mcolor\u001b[0m\u001b[1;33m=\u001b[0m\u001b[1;34m'red'\u001b[0m\u001b[1;33m,\u001b[0m \u001b[0mms\u001b[0m\u001b[1;33m=\u001b[0m\u001b[1;36m10\u001b[0m\u001b[1;33m)\u001b[0m\u001b[1;33m;\u001b[0m\u001b[1;33m\u001b[0m\u001b[0m\n",
        "\u001b[1;32m/usr/local/lib/python2.7/dist-packages/astroML/plotting/__init__.py\u001b[0m in \u001b[0;36m<module>\u001b[1;34m()\u001b[0m\n\u001b[1;32m----> 1\u001b[1;33m \u001b[1;32mfrom\u001b[0m \u001b[1;33m.\u001b[0m\u001b[0mhist_tools\u001b[0m \u001b[1;32mimport\u001b[0m \u001b[0mhist\u001b[0m\u001b[1;33m\u001b[0m\u001b[0m\n\u001b[0m\u001b[0;32m      2\u001b[0m \u001b[1;32mfrom\u001b[0m \u001b[1;33m.\u001b[0m\u001b[0mscatter_contour\u001b[0m \u001b[1;32mimport\u001b[0m \u001b[0mscatter_contour\u001b[0m\u001b[1;33m\u001b[0m\u001b[0m\n\u001b[0;32m      3\u001b[0m \u001b[1;32mfrom\u001b[0m \u001b[1;33m.\u001b[0m\u001b[0mmcmc\u001b[0m \u001b[1;32mimport\u001b[0m \u001b[0mplot_mcmc\u001b[0m\u001b[1;33m\u001b[0m\u001b[0m\n\u001b[0;32m      4\u001b[0m \u001b[1;32mfrom\u001b[0m \u001b[1;33m.\u001b[0m\u001b[0mellipse\u001b[0m \u001b[1;32mimport\u001b[0m \u001b[0mplot_tissot_ellipse\u001b[0m\u001b[1;33m\u001b[0m\u001b[0m\n\u001b[0;32m      5\u001b[0m \u001b[1;32mfrom\u001b[0m \u001b[1;33m.\u001b[0m\u001b[0mmultiaxes\u001b[0m \u001b[1;32mimport\u001b[0m \u001b[0mMultiAxes\u001b[0m\u001b[1;33m\u001b[0m\u001b[0m\n",
        "\u001b[1;32m/usr/local/lib/python2.7/dist-packages/astroML/plotting/hist_tools.py\u001b[0m in \u001b[0;36m<module>\u001b[1;34m()\u001b[0m\n\u001b[0;32m      4\u001b[0m \u001b[1;32mfrom\u001b[0m \u001b[0mmatplotlib\u001b[0m \u001b[1;32mimport\u001b[0m \u001b[0mpyplot\u001b[0m \u001b[1;32mas\u001b[0m \u001b[0mplt\u001b[0m\u001b[1;33m\u001b[0m\u001b[0m\n\u001b[0;32m      5\u001b[0m \u001b[1;33m\u001b[0m\u001b[0m\n\u001b[1;32m----> 6\u001b[1;33m \u001b[1;32mfrom\u001b[0m \u001b[0mastroML\u001b[0m\u001b[1;33m.\u001b[0m\u001b[0mdensity_estimation\u001b[0m \u001b[1;32mimport\u001b[0m\u001b[0;31m\\\u001b[0m\u001b[1;33m\u001b[0m\u001b[0m\n\u001b[0m\u001b[0;32m      7\u001b[0m     \u001b[0mscotts_bin_width\u001b[0m\u001b[1;33m,\u001b[0m \u001b[0mfreedman_bin_width\u001b[0m\u001b[1;33m,\u001b[0m\u001b[0;31m\\\u001b[0m\u001b[1;33m\u001b[0m\u001b[0m\n\u001b[0;32m      8\u001b[0m     \u001b[0mknuth_bin_width\u001b[0m\u001b[1;33m,\u001b[0m \u001b[0mbayesian_blocks\u001b[0m\u001b[1;33m\u001b[0m\u001b[0m\n",
        "\u001b[1;32m/usr/local/lib/python2.7/dist-packages/astroML/density_estimation/__init__.py\u001b[0m in \u001b[0;36m<module>\u001b[1;34m()\u001b[0m\n\u001b[1;32m----> 1\u001b[1;33m \u001b[1;32mfrom\u001b[0m \u001b[0mdensity_estimation\u001b[0m \u001b[1;32mimport\u001b[0m \u001b[0mKDE\u001b[0m\u001b[1;33m,\u001b[0m \u001b[0mKNeighborsDensity\u001b[0m\u001b[1;33m\u001b[0m\u001b[0m\n\u001b[0m\u001b[0;32m      2\u001b[0m \u001b[1;32mfrom\u001b[0m \u001b[0mxdeconv\u001b[0m \u001b[1;32mimport\u001b[0m \u001b[0mXDGMM\u001b[0m\u001b[1;33m\u001b[0m\u001b[0m\n\u001b[0;32m      3\u001b[0m \u001b[1;32mfrom\u001b[0m \u001b[0mhisttools\u001b[0m \u001b[1;32mimport\u001b[0m\u001b[0;31m\\\u001b[0m\u001b[1;33m\u001b[0m\u001b[0m\n\u001b[0;32m      4\u001b[0m     \u001b[0mscotts_bin_width\u001b[0m\u001b[1;33m,\u001b[0m \u001b[0mfreedman_bin_width\u001b[0m\u001b[1;33m,\u001b[0m \u001b[0mknuth_bin_width\u001b[0m\u001b[1;33m,\u001b[0m \u001b[0mhistogram\u001b[0m\u001b[1;33m\u001b[0m\u001b[0m\n\u001b[0;32m      5\u001b[0m \u001b[1;32mfrom\u001b[0m \u001b[0mbayesian_blocks\u001b[0m \u001b[1;32mimport\u001b[0m \u001b[0mbayesian_blocks\u001b[0m\u001b[1;33m\u001b[0m\u001b[0m\n",
        "\u001b[1;32m/usr/local/lib/python2.7/dist-packages/astroML/density_estimation/density_estimation.py\u001b[0m in \u001b[0;36m<module>\u001b[1;34m()\u001b[0m\n\u001b[0;32m     11\u001b[0m \u001b[1;32mimport\u001b[0m \u001b[0mnumpy\u001b[0m \u001b[1;32mas\u001b[0m \u001b[0mnp\u001b[0m\u001b[1;33m\u001b[0m\u001b[0m\n\u001b[0;32m     12\u001b[0m \u001b[1;32mfrom\u001b[0m \u001b[0mscipy\u001b[0m \u001b[1;32mimport\u001b[0m \u001b[0mspecial\u001b[0m\u001b[1;33m\u001b[0m\u001b[0m\n\u001b[1;32m---> 13\u001b[1;33m \u001b[1;32mfrom\u001b[0m \u001b[0msklearn\u001b[0m\u001b[1;33m.\u001b[0m\u001b[0mmetrics\u001b[0m \u001b[1;32mimport\u001b[0m \u001b[0mpairwise_kernels\u001b[0m\u001b[1;33m,\u001b[0m \u001b[0mpairwise_distances\u001b[0m\u001b[1;33m\u001b[0m\u001b[0m\n\u001b[0m\u001b[0;32m     14\u001b[0m \u001b[1;32mfrom\u001b[0m \u001b[0msklearn\u001b[0m\u001b[1;33m.\u001b[0m\u001b[0mneighbors\u001b[0m \u001b[1;32mimport\u001b[0m \u001b[0mBallTree\u001b[0m\u001b[1;33m\u001b[0m\u001b[0m\n\u001b[0;32m     15\u001b[0m \u001b[1;33m\u001b[0m\u001b[0m\n",
        "\u001b[1;31mImportError\u001b[0m: No module named sklearn.metrics"
       ]
      }
     ],
     "prompt_number": 13
    },
    {
     "cell_type": "markdown",
     "metadata": {},
     "source": [
      "\u7ea2\u70b9\u663e\u793a\u5728\u771f\u5b9e\u503c\u9644\u8fd1(\u5728\u524d\u8ff0\u95ee\u9898\u6761\u4ef6\u4e0b)\uff0c\u7b49\u9ad8\u7ebf\u663e\u793a\u4e861\u30012\u4e2a\u6807\u51c6\u5dee\u7684\u7f6e\u4fe1\u533a\u95f4\u60c5\u51b5(68%\u548c95%\u7f6e\u4fe1\u6c34\u5e73)\u3002\n",
      "\n",
      "\u8fd9\u91cc\u8981\u6ce8\u610f$\\sigma = 0$\u4e0e\u4e24\u4e2a\u6807\u51c6\u5dee\u7684\u60c5\u51b5\u4e00\u81f4\uff1a\u4e5f\u5c31\u662f\u8bf4\uff0c\u4f9d\u8d56\u4e8e\u4f60\u81ea\u5df1\u5bf9\u786e\u5b9a\u6027\u7684\u4e34\u754c\u503c\u611f\u89c9\uff0c\u6211\u4eec\u7684\u6570\u636e\u4e0d\u8db3\u4ee5\u4fdd\u8bc1\u4e00\u4e2a\u5b9a\u70b9\u6570\u636e\u6e90\u6982\u7387\u7684\u7f6e\u4fe1\u533a\u95f4\u3002\n",
      "\n",
      "\u53e6\u5916\uff0c\u540e\u9a8c\u6982\u7387\u786e\u5b9e\u662f*\u975e*\u6b63\u6001\u7684\uff1a\u53ef\u4ee5\u901a\u8fc7\u5782\u76f4\u65b9\u5411\u7684\u5bf9\u79f0\u6027\u6765\u770b\u3002\u4e5f\u5c31\u610f\u5473\u7740\u7528\u9891\u7387\u4e3b\u4e49\u7684\u6b63\u6001\u8fd1\u4f3c\u4e0d\u4f1a\u5c06\u771f\u5b9e\u7684\u4e0d\u786e\u5b9a\u6027\u53cd\u6620\u5230\u7ed3\u679c\u4e2d\u3002\u5bf9\u9891\u7387\u4e3b\u4e49\u8005\u6765\u8bf4\u8fd9\u4e0d\u662f\u5565\u4e8b\u513f(\u9891\u7387\u4e3b\u4e49\u6a21\u5f0f\u6709\u65b9\u6cd5\u4f1a\u8003\u8651\u5230\u975e\u6b63\u6001\u6027)\uff0c\u4f46\u662f\u9891\u7387\u4e3b\u4e49\u65b9\u6cd5\u7684*\u7edd\u5927\u591a\u6570*\u4f7f\u7528\u8005\u90fd\u76f4\u63a5\u6216\u95f4\u63a5\u5730\u4f7f\u7528\u4e86\u6b63\u6001\u5206\u5e03\u7684\u5047\u8bbe\u3002\u8d1d\u53f6\u65af\u65b9\u6cd5\u4e00\u822c\u4e0d\u9700\u8981\u8fd9\u4e2a\u5047\u8bbe\u3002\n",
      "\n",
      "<small>(\u5148\u9a8c\u6982\u7387:\u6709\u4e9b\u4e0d\u9519\u7684\u89c2\u70b9\u5728\u786e\u5b9a$\\sigma$\u7684\u4e0d\u53d8\u5148\u9a8c\u6982\u7387\u65f6\u4e0e\u672c\u6587\u7684\u8ba1\u7b97\u65b9\u5f0f\u6709\u8f7b\u5fae\u5dee\u5f02\uff1a\u5b83\u4eec\u8ba4\u4e3a\uff0c\u5728\u5904\u7406\u50cf$\\sigma$\u8fd9\u6837\u7684\u6bd4\u4f8b\u56e0\u5b50\u65f6\uff0c\u4e0d\u53d8\u5148\u9a8c\u6982\u7387\u4e0d\u662f\u5fc5\u987b\u7684\u3002[Jeffreys Prior](http://en.wikipedia.org/wiki/Jeffreys_prior)\u7684\u4e00\u4e9b\u6709\u8da3\u7684\u8bba\u8ff0\u66f4\u5bb9\u6613\u63a5\u53d7\u3002\u6211\u8ba4\u4e3aJeffreys\u4e0d\u592a\u9002\u5408\uff0c\u56e0\u4e3a$\\sigma$\u4e0d\u662f\u4e00\u4e2a\u771f\u5b9e\u7684\u6bd4\u4f8b\u56e0\u5b50(\u6bd4\u5982\uff0c\u6b63\u6001\u5206\u5e03\u4e5f\u4f1a\u5f71\u54cd$e_i$)\u3002\u5173\u4e8e\u8fd9\u4e2a\u95ee\u9898\uff0c\u6211\u5c06\u53c2\u8003\u5176\u4ed6\u4e13\u4e1a\u4eba\u58eb\u7684\u89c2\u70b9\u3002\u6211\u4e2a\u4eba\u8ba4\u4e3a\uff0c\u8fd9\u4e9b\u5c0f\u95ee\u9898\u5f80\u5f80\u662f\u8d1d\u53f6\u65af\u4e3b\u4e49\u4e0e\u9891\u7387\u4e3b\u4e49\u4e89\u8bba\u7684\u7126\u70b9)\u3002</small>"
     ]
    },
    {
     "cell_type": "markdown",
     "metadata": {},
     "source": [
      "## \u7ed3\u8bba\n",
      "\n",
      "\u6211\u5e0c\u671b\u6211\u5df2\u7ecf\u901a\u8fc7\u8fd9\u7bc7\u6587\u7ae0\u5c55\u793a\u4e86\u9891\u7387\u4e3b\u4e49\u4e0e\u8d1d\u53f6\u65af\u4e3b\u4e49\u6839\u672c\u7684\u533a\u522b\uff0c\u5bfc\u81f4\u4e24\u8005\u672c\u8d28\u4e0a\u5bf9\u540c\u6837\u95ee\u9898\u6709\u7740\u4e0d\u540c\u7684\u89e3\u91ca\uff0c\u7136\u800c\u5f7c\u6b64\u5374\u7ecf\u5e38\u53ef\u4ee5\u4ea7\u751f\u76f8\u4f3c\u751a\u81f3\u76f8\u540c\u7684\u7ed3\u679c\u3002\n",
      "\n",
      "\u4e24\u8005\u5dee\u5f02\u603b\u7ed3\u5982\u4e0b\uff1a\n",
      "\n",
      "- \u9891\u7387\u4e3b\u4e49\u8ba4\u4e3a\u6982\u7387\u4e0e\u4e8b\u5b9e\u6216\u5047\u60f3\u4e8b\u4ef6\u7684\u9891\u7387\u6709\u5173\u3002\n",
      "- \u8d1d\u53f6\u65af\u4e3b\u4e49\u8ba4\u4e3a\u6982\u7387\u662f\u5bf9\u4e8b\u4ef6\u8ba4\u8bc6\u7a0b\u5ea6\u7684\u5ea6\u91cf\u3002\n",
      "- \u9891\u7387\u4e3b\u4e49\u901a\u5e38\u4f7f\u7528\u70b9\u4f30\u8ba1\u548c\u6781\u5927\u4f3c\u7136\u4f30\u8ba1\u65b9\u6cd5\u8fdb\u884c\u5206\u6790\u3002\n",
      "- \u8d1d\u53f6\u65af\u4e3b\u4e49\u901a\u5e38\u76f4\u63a5\u7684\u8ba1\u7b97\u540e\u9a8c\u6982\u7387\uff0c\u6216\u8005\u901a\u8fc7\u4e00\u4e9bMCMC\u62bd\u6837\u7684\u65b9\u6cd5\u8ba1\u7b97\u3002\n",
      "\n",
      "\u5904\u7406\u7b80\u5355\u95ee\u9898\u65f6\uff0c\u4e24\u79cd\u65b9\u6cd5\u4f1a\u4ea7\u751f\u8fd1\u4f3c\u7684\u7ed3\u679c\u3002\u4f46\u5f53\u6570\u636e\u548c\u6a21\u578b\u8d8a\u6765\u8d8a\u590d\u6742\u65f6\uff0c\u4e24\u79cd\u65b9\u6cd5\u4f1a\u6709\u5929\u58e4\u4e4b\u522b\u3002\u5728\u4ee5\u540e\u7684\u6587\u7ae0\u4e2d\uff0c\u6211\u4f1a\u663e\u793a\u4e00\u4e24\u4e2a\u66f4\u590d\u6742\u7684\u6848\u4f8b\u3002\u7ee7\u7eed\u5173\u6ce8\u5662\uff01"
     ]
    },
    {
     "cell_type": "markdown",
     "metadata": {},
     "source": [
      "*Update: \u770b\u4e0b\u4e00\u7bc7\u6587\u7ae0\uff1a[\u9891\u7387\u4e3b\u4e49\u4e0e\u8d1d\u53f6\u65af\u4e3b\u4e49 II: \u5f53\u7ed3\u679c\u4e0d\u540c\u65f6](http://jakevdp.github.io/blog/2014/06/06/frequentism-and-bayesianism-2-when-results-differ/)*\n",
      "\n",
      "<small>\n",
      "\u672c\u6587\u662f\u7528IPython notebook\u5199\u7684\u3002\u4f60\u53ef\u4ee5[\u4e0b\u8f7d](http://jakevdp.github.io/downloads/notebooks/FreqBayes.ipynb)\u8fd9\u4e2anotebook\u5e76\u6267\u884c\uff0c\u6216\u8005\u7528nbviewer\u5728\u7ebf\u89c2\u770b\u9759\u6001\u7248\u672c[here](http://nbviewer.ipython.org/url/jakevdp.github.io/downloads/notebooks/FreqBayes.ipynb)\u3002\n",
      "\n",
      "ipython\u5b89\u88c5MathJax:\n",
      "</small>"
     ]
    },
    {
     "cell_type": "code",
     "collapsed": false,
     "input": [
      "# from IPython.external.mathjax import install_mathjax\n",
      "# install_mathjax()"
     ],
     "language": "python",
     "metadata": {},
     "outputs": []
    }
   ],
   "metadata": {}
  }
 ]
}